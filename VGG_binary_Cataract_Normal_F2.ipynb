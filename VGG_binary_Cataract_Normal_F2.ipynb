{
 "cells": [
  {
   "cell_type": "code",
   "execution_count": 9,
   "id": "671b7100",
   "metadata": {
    "id": "671b7100"
   },
   "outputs": [],
   "source": [
    "import tensorflow as tf\n",
    "from tensorflow.keras.preprocessing.image import ImageDataGenerator\n",
    "from tensorflow.keras.models import Sequential, Model, load_model\n",
    "from tensorflow.keras.optimizers import Adam\n",
    "from tensorflow.keras.layers import Rescaling, Activation, Dropout, Flatten, Dense, GlobalMaxPooling2D, Conv2D, MaxPooling2D\n",
    "from tensorflow.keras.callbacks import EarlyStopping\n",
    "from tensorflow.keras.applications import VGG16\n",
    "\n",
    "import os\n",
    "import numpy as np\n",
    "\n",
    "import matplotlib.pyplot as plt\n",
    "import seaborn as sns\n",
    "\n",
    "from sklearn.metrics import confusion_matrix\n",
    "from sklearn.metrics import classification_report"
   ]
  },
  {
   "cell_type": "code",
   "execution_count": 10,
   "id": "230bf783",
   "metadata": {
    "id": "230bf783"
   },
   "outputs": [],
   "source": [
    "train_dir = './N_C_labeled-images-flipped/train'\n",
    "test_dir = './N_C_labeled-images-flipped/test'\n",
    "\n",
    "BATCH_SIZE = 32\n",
    "IMG_HEIGHT = 264\n",
    "IMG_WIDTH = 264\n",
    "EPOCHS = 100\n",
    "\n",
    "input_shape = (IMG_WIDTH, IMG_HEIGHT, 3)"
   ]
  },
  {
   "cell_type": "code",
   "execution_count": 7,
   "id": "62f81500",
   "metadata": {
    "colab": {
     "base_uri": "https://localhost:8080/"
    },
    "id": "62f81500",
    "outputId": "36e474f6-6b95-4015-977a-40e59c517ed1"
   },
   "outputs": [
    {
     "name": "stdout",
     "output_type": "stream",
     "text": [
      "Found 2412 files belonging to 2 classes.\n",
      "Using 1930 files for training.\n",
      "Found 2412 files belonging to 2 classes.\n",
      "Using 482 files for validation.\n",
      "Found 268 files belonging to 2 classes.\n"
     ]
    }
   ],
   "source": [
    "training_generator = tf.keras.utils.image_dataset_from_directory(\n",
    "    train_dir,\n",
    "    labels='inferred',\n",
    "    label_mode='binary',\n",
    "    batch_size=BATCH_SIZE,\n",
    "    image_size=(IMG_WIDTH, IMG_HEIGHT),\n",
    "    shuffle=True,\n",
    "    seed=432,\n",
    "    validation_split=0.2,\n",
    "    subset='training',\n",
    ")\n",
    "\n",
    "validation_generator = tf.keras.utils.image_dataset_from_directory(\n",
    "    train_dir,\n",
    "    labels='inferred',\n",
    "    label_mode='binary',\n",
    "    batch_size=BATCH_SIZE,\n",
    "    image_size=(IMG_WIDTH, IMG_HEIGHT),\n",
    "    shuffle=True,\n",
    "    seed=432,\n",
    "    validation_split=0.2,\n",
    "    subset='validation',\n",
    ")\n",
    "\n",
    "test_generator = tf.keras.utils.image_dataset_from_directory(\n",
    "    test_dir,\n",
    "    labels='inferred',\n",
    "    label_mode='binary',\n",
    "    shuffle=False,\n",
    "    batch_size=BATCH_SIZE,\n",
    "    image_size=(IMG_WIDTH, IMG_HEIGHT),\n",
    "    seed=432,\n",
    ")"
   ]
  },
  {
   "cell_type": "code",
   "execution_count": 5,
   "id": "VJKcQB-RdFuD",
   "metadata": {
    "id": "VJKcQB-RdFuD"
   },
   "outputs": [],
   "source": [
    "pretrained = VGG16(weights='imagenet', include_top=False)"
   ]
  },
  {
   "cell_type": "code",
   "execution_count": 6,
   "id": "47bcc426",
   "metadata": {
    "colab": {
     "base_uri": "https://localhost:8080/"
    },
    "id": "47bcc426",
    "outputId": "23a70dcb-3d7a-427d-86de-8210f22f4214"
   },
   "outputs": [
    {
     "name": "stdout",
     "output_type": "stream",
     "text": [
      "Model: \"sequential\"\n",
      "_________________________________________________________________\n",
      " Layer (type)                Output Shape              Param #   \n",
      "=================================================================\n",
      " rescaling (Rescaling)       (None, 264, 264, 3)       0         \n",
      "                                                                 \n",
      " vgg16 (Functional)          (None, None, None, 512)   14714688  \n",
      "                                                                 \n",
      " flatten (Flatten)           (None, 32768)             0         \n",
      "                                                                 \n",
      " dense (Dense)               (None, 256)               8388864   \n",
      "                                                                 \n",
      " dense_1 (Dense)             (None, 256)               65792     \n",
      "                                                                 \n",
      " dense_2 (Dense)             (None, 1)                 257       \n",
      "                                                                 \n",
      " activation (Activation)     (None, 1)                 0         \n",
      "                                                                 \n",
      "=================================================================\n",
      "Total params: 23,169,601\n",
      "Trainable params: 23,169,601\n",
      "Non-trainable params: 0\n",
      "_________________________________________________________________\n"
     ]
    }
   ],
   "source": [
    "model = Sequential()\n",
    "\n",
    "model.add(Rescaling(1./255, input_shape=input_shape))\n",
    "\n",
    "model.add(pretrained)\n",
    "\n",
    "model.add(Flatten())\n",
    "model.add(Dense(256, activation='relu'))\n",
    "\n",
    "model.add(Dense(256, activation='relu'))\n",
    "\n",
    "model.add(Dense(1))\n",
    "model.add(Activation('sigmoid'))\n",
    "\n",
    "model.summary()"
   ]
  },
  {
   "cell_type": "code",
   "execution_count": 7,
   "id": "G6Mja-BsWbsv",
   "metadata": {
    "colab": {
     "base_uri": "https://localhost:8080/"
    },
    "id": "G6Mja-BsWbsv",
    "outputId": "19ca198f-6f16-4619-b2f8-7f00ffc5a720"
   },
   "outputs": [
    {
     "name": "stdout",
     "output_type": "stream",
     "text": [
      "['C', 'N']\n",
      "[236, 2176]\n",
      "[3.1968734726291563, 1.0535653752852738]\n"
     ]
    }
   ],
   "source": [
    "cat_list = os.listdir('./N_C_labeled-images-flipped/train/')\n",
    "cat_list.sort()\n",
    "\n",
    "lenghts = [len(os.listdir('./N_C_labeled-images-flipped/train/'+cat)) for cat in cat_list]\n",
    "total_train_images = np.sum(lenghts)\n",
    "\n",
    "weights = list(np.sqrt(np.round(1/(np.array(lenghts) / total_train_images),2)))\n",
    "\n",
    "print(cat_list)\n",
    "print(lenghts)\n",
    "print(weights)"
   ]
  },
  {
   "cell_type": "code",
   "execution_count": 8,
   "id": "8i5ryfjb58n1",
   "metadata": {
    "id": "8i5ryfjb58n1"
   },
   "outputs": [],
   "source": [
    "patience = 10\n",
    "\n",
    "early_stopping = EarlyStopping(monitor='val_loss', patience=patience, restore_best_weights=True)"
   ]
  },
  {
   "cell_type": "code",
   "execution_count": 9,
   "id": "_PbjSoGXc_jI",
   "metadata": {
    "id": "_PbjSoGXc_jI"
   },
   "outputs": [],
   "source": [
    "# freeze vgg16\n",
    "pretrained.trainable = False\n",
    "\n",
    "model.compile(loss='binary_crossentropy', loss_weights=weights,\n",
    "            optimizer=Adam(learning_rate=0.001),\n",
    "            metrics=['accuracy'])"
   ]
  },
  {
   "cell_type": "code",
   "execution_count": 4,
   "id": "aadbc1bb",
   "metadata": {},
   "outputs": [
    {
     "name": "stdout",
     "output_type": "stream",
     "text": [
      "1 Physical GPUs, 1 Logical GPUs\n"
     ]
    }
   ],
   "source": [
    "gpus = tf.config.list_physical_devices('GPU')\n",
    "if gpus:\n",
    "  try:\n",
    "    logical_gpus = tf.config.list_logical_devices('GPU')\n",
    "    print(len(gpus), \"Physical GPUs,\", len(logical_gpus), \"Logical GPUs\")\n",
    "  except RuntimeError as e:\n",
    "    print(e)"
   ]
  },
  {
   "cell_type": "code",
   "execution_count": 11,
   "id": "60830866",
   "metadata": {},
   "outputs": [
    {
     "name": "stdout",
     "output_type": "stream",
     "text": [
      "Epoch 1/100\n",
      "2/2 [==============================] - 32s 24s/step - loss: 4.4421 - accuracy: 0.4844 - val_loss: 3.1786 - val_accuracy: 0.9219\n",
      "Epoch 2/100\n",
      "2/2 [==============================] - 50s 37s/step - loss: 2.5650 - accuracy: 0.9219 - val_loss: 1.3653 - val_accuracy: 0.8750\n",
      "Epoch 3/100\n",
      "2/2 [==============================] - 47s 34s/step - loss: 3.4230 - accuracy: 0.5156 - val_loss: 1.4863 - val_accuracy: 0.8750\n",
      "Epoch 4/100\n",
      "2/2 [==============================] - 43s 32s/step - loss: 0.7671 - accuracy: 0.9531 - val_loss: 2.3851 - val_accuracy: 0.9375\n",
      "Epoch 5/100\n",
      "2/2 [==============================] - 42s 31s/step - loss: 3.8025 - accuracy: 0.9062 - val_loss: 3.8245 - val_accuracy: 0.9219\n",
      "Epoch 6/100\n",
      "2/2 [==============================] - 45s 34s/step - loss: 8.4669 - accuracy: 0.8281 - val_loss: 5.2738 - val_accuracy: 0.8750\n",
      "Epoch 7/100\n",
      "2/2 [==============================] - 44s 33s/step - loss: 3.8462 - accuracy: 0.8906 - val_loss: 1.8273 - val_accuracy: 0.9219\n",
      "Epoch 8/100\n",
      "2/2 [==============================] - 45s 34s/step - loss: 1.4440 - accuracy: 0.8906 - val_loss: 0.7269 - val_accuracy: 0.8906\n",
      "Epoch 9/100\n",
      "2/2 [==============================] - 46s 34s/step - loss: 1.8705 - accuracy: 0.7656 - val_loss: 1.8889 - val_accuracy: 0.7500\n",
      "Epoch 10/100\n",
      "2/2 [==============================] - 46s 35s/step - loss: 1.0401 - accuracy: 0.8594 - val_loss: 0.9478 - val_accuracy: 0.8594\n",
      "Epoch 11/100\n",
      "2/2 [==============================] - 28s 17s/step - loss: 0.3640 - accuracy: 0.9688 - val_loss: 2.2720 - val_accuracy: 0.8750\n",
      "Epoch 12/100\n",
      "2/2 [==============================] - 24s 18s/step - loss: 1.9113 - accuracy: 0.9062 - val_loss: 1.8007 - val_accuracy: 0.9219\n",
      "Epoch 13/100\n",
      "2/2 [==============================] - 32s 26s/step - loss: 1.9107 - accuracy: 0.8906 - val_loss: 0.5365 - val_accuracy: 0.9531\n",
      "Epoch 14/100\n",
      "2/2 [==============================] - 40s 30s/step - loss: 0.9291 - accuracy: 0.8750 - val_loss: 0.3949 - val_accuracy: 0.9375\n",
      "Epoch 15/100\n",
      "2/2 [==============================] - 43s 32s/step - loss: 1.3048 - accuracy: 0.8281 - val_loss: 1.1128 - val_accuracy: 0.8906\n",
      "Epoch 16/100\n",
      "2/2 [==============================] - 45s 34s/step - loss: 0.5329 - accuracy: 0.9062 - val_loss: 0.5312 - val_accuracy: 0.8906\n",
      "Epoch 17/100\n",
      "2/2 [==============================] - 42s 31s/step - loss: 0.6999 - accuracy: 0.9062 - val_loss: 0.7103 - val_accuracy: 0.9219\n",
      "Epoch 18/100\n",
      "2/2 [==============================] - 42s 31s/step - loss: 0.4663 - accuracy: 0.9375 - val_loss: 0.6854 - val_accuracy: 0.9219\n",
      "Epoch 19/100\n",
      "2/2 [==============================] - 44s 33s/step - loss: 0.9393 - accuracy: 0.8906 - val_loss: 0.5843 - val_accuracy: 0.9375\n",
      "Epoch 20/100\n",
      "2/2 [==============================] - 44s 32s/step - loss: 0.2919 - accuracy: 0.9531 - val_loss: 0.5104 - val_accuracy: 0.9375\n",
      "Epoch 21/100\n",
      "2/2 [==============================] - 29s 19s/step - loss: 0.5726 - accuracy: 0.8906 - val_loss: 0.3962 - val_accuracy: 0.9531\n",
      "Epoch 22/100\n",
      "2/2 [==============================] - 32s 26s/step - loss: 0.3390 - accuracy: 0.9688 - val_loss: 0.3487 - val_accuracy: 0.9531\n",
      "Epoch 23/100\n",
      "2/2 [==============================] - 46s 35s/step - loss: 0.3842 - accuracy: 0.9375 - val_loss: 0.6367 - val_accuracy: 0.9062\n",
      "Epoch 24/100\n",
      "2/2 [==============================] - 50s 37s/step - loss: 0.4616 - accuracy: 0.9375 - val_loss: 0.4112 - val_accuracy: 0.9375\n",
      "Epoch 25/100\n",
      "2/2 [==============================] - 43s 32s/step - loss: 0.2849 - accuracy: 0.9844 - val_loss: 0.6495 - val_accuracy: 0.9062\n",
      "Epoch 26/100\n",
      "2/2 [==============================] - 42s 32s/step - loss: 0.3617 - accuracy: 0.9844 - val_loss: 0.3467 - val_accuracy: 0.9688\n",
      "Epoch 27/100\n",
      "2/2 [==============================] - 43s 31s/step - loss: 0.4330 - accuracy: 0.9062 - val_loss: 0.3434 - val_accuracy: 0.9531\n",
      "Epoch 28/100\n",
      "2/2 [==============================] - 42s 31s/step - loss: 0.7415 - accuracy: 0.9062 - val_loss: 0.3361 - val_accuracy: 0.9688\n",
      "Epoch 29/100\n",
      "2/2 [==============================] - 28s 18s/step - loss: 0.4584 - accuracy: 0.9375 - val_loss: 0.3680 - val_accuracy: 0.9531\n",
      "Epoch 30/100\n",
      "2/2 [==============================] - 25s 19s/step - loss: 0.4406 - accuracy: 0.9219 - val_loss: 0.5455 - val_accuracy: 0.9219\n",
      "Epoch 31/100\n",
      "1/2 [==============>...............] - ETA: 2s - loss: 0.5506 - accuracy: 0.9000WARNING:tensorflow:Your input ran out of data; interrupting training. Make sure that your dataset or generator can generate at least `steps_per_epoch * epochs` batches (in this case, 200 batches). You may need to use the repeat() function when building your dataset.\n",
      "2/2 [==============================] - 26s 23s/step - loss: 0.5506 - accuracy: 0.9000 - val_loss: 0.2766 - val_accuracy: 0.9688\n"
     ]
    }
   ],
   "source": [
    "tf.debugging.set_log_device_placement(True)\n",
    "try:\n",
    "  # Specify an invalid GPU device\n",
    "  with tf.device('/device:CPU:0'):\n",
    "    history = model.fit(\n",
    "    training_generator,\n",
    "    steps_per_epoch=2,\n",
    "    epochs=EPOCHS,\n",
    "    validation_data=validation_generator,\n",
    "    validation_steps=2,\n",
    "    verbose=1,\n",
    "    callbacks = [early_stopping])\n",
    "    \n",
    "except RuntimeError as e:\n",
    "  print(e)"
   ]
  },
  {
   "cell_type": "code",
   "execution_count": 12,
   "id": "scCd6YtS2Agv",
   "metadata": {
    "id": "scCd6YtS2Agv"
   },
   "outputs": [],
   "source": [
    "model.save('vgg16_binary_cataract_normal_98.h5')"
   ]
  },
  {
   "cell_type": "code",
   "execution_count": 13,
   "id": "b7eaf27a",
   "metadata": {
    "colab": {
     "base_uri": "https://localhost:8080/",
     "height": 295
    },
    "id": "b7eaf27a",
    "outputId": "cd858420-36b0-4924-987a-7e7b0cd78a7f"
   },
   "outputs": [
    {
     "data": {
      "image/png": "[encoded data removed]",
      "text/plain": [
       "<Figure size 432x288 with 1 Axes>"
      ]
     },
     "metadata": {
      "needs_background": "light"
     },
     "output_type": "display_data"
    }
   ],
   "source": [
    "# summarize history for accuracy\n",
    "plt.plot(history.history['accuracy'])\n",
    "plt.plot(history.history['val_accuracy'])\n",
    "plt.title('model accuracy')\n",
    "plt.ylabel('accuracy')\n",
    "plt.xlabel('epoch')\n",
    "plt.legend(['train', 'test'], loc='upper left')\n",
    "plt.show()"
   ]
  },
  {
   "cell_type": "code",
   "execution_count": 14,
   "id": "86ae19f8",
   "metadata": {
    "colab": {
     "base_uri": "https://localhost:8080/",
     "height": 295
    },
    "id": "86ae19f8",
    "outputId": "76195f66-956e-4ae4-af8d-3abd9cc61e4a"
   },
   "outputs": [
    {
     "data": {
      "image/png": "[encoded data removed]",
      "text/plain": [
       "<Figure size 432x288 with 1 Axes>"
      ]
     },
     "metadata": {
      "needs_background": "light"
     },
     "output_type": "display_data"
    }
   ],
   "source": [
    "# summarize history for loss\n",
    "plt.plot(history.history['loss'][1:])\n",
    "plt.plot(history.history['val_loss'][1:])\n",
    "plt.title('model loss')\n",
    "plt.ylabel('loss')\n",
    "plt.xlabel('epoch')\n",
    "plt.legend(['train', 'test'], loc='upper left')\n",
    "plt.show()"
   ]
  },
  {
   "cell_type": "code",
   "execution_count": 17,
   "id": "y46oLQtN2GIK",
   "metadata": {
    "id": "y46oLQtN2GIK"
   },
   "outputs": [],
   "source": [
    "model = load_model('vgg16_binary_cataract_normal_98.h5')"
   ]
  },
  {
   "cell_type": "code",
   "execution_count": 8,
   "id": "7be4aa82",
   "metadata": {
    "id": "7be4aa82"
   },
   "outputs": [
    {
     "name": "stdout",
     "output_type": "stream",
     "text": [
      "9/9 [==============================] - 71s 8s/step\n"
     ]
    }
   ],
   "source": [
    "## Predict on test data\n",
    "tf.debugging.set_log_device_placement(True)\n",
    "try:\n",
    "  # Specify an invalid GPU device\n",
    "  with tf.device('/device:CPU:0'):\n",
    "    y_pred = model.predict(test_generator)\n",
    "except RuntimeError as e:\n",
    "  print(e)"
   ]
  },
  {
   "cell_type": "code",
   "execution_count": 10,
   "id": "Ny90-1_ykptA",
   "metadata": {
    "id": "Ny90-1_ykptA"
   },
   "outputs": [],
   "source": [
    "test_labels = []\n",
    "for image_batch, labels_batch in test_generator:\n",
    "  for vector in labels_batch:\n",
    "    test_labels.append(vector.numpy().astype(int))\n",
    "\n",
    "y_real = np.array(test_labels)"
   ]
  },
  {
   "cell_type": "code",
   "execution_count": 11,
   "id": "IN5iDfd6Ivo3",
   "metadata": {
    "id": "IN5iDfd6Ivo3"
   },
   "outputs": [],
   "source": [
    "y_pred[y_pred >= 0.5] = 1\n",
    "y_pred[y_pred < 0.5] = 0"
   ]
  },
  {
   "cell_type": "code",
   "execution_count": 15,
   "id": "2h7VR_MYoA-I",
   "metadata": {
    "colab": {
     "base_uri": "https://localhost:8080/",
     "height": 313
    },
    "id": "2h7VR_MYoA-I",
    "outputId": "eeb6a30b-9a48-442e-81db-d1c0ec8280b4"
   },
   "outputs": [
    {
     "data": {
      "text/plain": [
       "Text(33.0, 0.5, 'Truth')"
      ]
     },
     "execution_count": 15,
     "metadata": {},
     "output_type": "execute_result"
    },
    {
     "data": {
      "image/png": "[encoded data removed]",
      "text/plain": [
       "<Figure size 432x288 with 2 Axes>"
      ]
     },
     "metadata": {
      "needs_background": "light"
     },
     "output_type": "display_data"
    }
   ],
   "source": [
    "cf_matrix = confusion_matrix(y_real, y_pred)\n",
    "ax = sns.heatmap(cf_matrix, annot=True, fmt='d')\n",
    "plt.title('Confusion Matrix Test Set')\n",
    "ax.xaxis.set_ticklabels(['Cataract','Normal'])\n",
    "ax.yaxis.set_ticklabels(['Cataract','Normal'])\n",
    "plt.xlabel('Predicted')\n",
    "plt.ylabel('Truth')"
   ]
  },
  {
   "cell_type": "code",
   "execution_count": 13,
   "id": "8KPBOwn1Y81T",
   "metadata": {
    "colab": {
     "base_uri": "https://localhost:8080/"
    },
    "id": "8KPBOwn1Y81T",
    "outputId": "a6fa3498-117e-4acd-aee5-6606519d37ca"
   },
   "outputs": [
    {
     "name": "stdout",
     "output_type": "stream",
     "text": [
      "              precision    recall  f1-score   support\n",
      "\n",
      "    Cataract       0.65      0.85      0.73        26\n",
      "      Normal       0.98      0.95      0.97       242\n",
      "\n",
      "    accuracy                           0.94       268\n",
      "   macro avg       0.81      0.90      0.85       268\n",
      "weighted avg       0.95      0.94      0.94       268\n",
      "\n"
     ]
    }
   ],
   "source": [
    "print(classification_report(y_real, y_pred, target_names=['Cataract','Normal']))"
   ]
  }
 ],
 "metadata": {
  "colab": {
   "collapsed_sections": [],
   "name": "12_VGG_binary_Cataract_Normal.ipynb",
   "provenance": []
  },
  "kernelspec": {
   "display_name": "Python 3 (ipykernel)",
   "language": "python",
   "name": "python3"
  },
  "language_info": {
   "codemirror_mode": {
    "name": "ipython",
    "version": 3
   },
   "file_extension": ".py",
   "mimetype": "text/x-python",
   "name": "python",
   "nbconvert_exporter": "python",
   "pygments_lexer": "ipython3",
   "version": "3.9.0"
  }
 },
 "nbformat": 4,
 "nbformat_minor": 5
}
